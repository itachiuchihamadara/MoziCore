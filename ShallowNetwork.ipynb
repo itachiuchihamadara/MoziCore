{
 "cells": [
  {
   "cell_type": "code",
   "execution_count": 45,
   "id": "f0123ead-f6f5-4872-9491-1bcb961ac9e6",
   "metadata": {},
   "outputs": [],
   "source": [
    "import numpy as np\n",
    "import matplotlib.pyplot as plt\n",
    "\n",
    "def linear_function(x, a, b, c):\n",
    "    return a*x*x + b*x + c\n",
    "\n",
    "def log(x, a, b, c):\n",
    "    y = np.log10(linear_function(x, a, b, c))\n",
    "    return 8 * y\n",
    "\n",
    "\n",
    "a = 2   \n",
    "b = -1\n",
    "c = 10\n",
    "\n",
    "x_vals = np.linspace(-10, 10, 400)\n",
    "y_vals = linear_function(x_vals, a, b, c)\n",
    "y_vals_log = log(x_vals, a, b, c)\n",
    "\n",
    "plt.figure(figsize=(8, 6))\n",
    "plt.plot(x_vals, y_vals, label =\"$f(x)=2x^2-x+10$\",  color='blue')\n",
    "plt.plot(x_vals, y_vals_log, label = r\"$g(x)=8 \\cdot \\log_{10}f(x) $\", color='red')\n",
    "\n",
    "plt.title('Graph of a Linear Function')\n",
    "plt.xlabel('x')\n",
    "plt.ylabel('f(x)')\n",
    "plt.axhline(0, color='black', linewidth=0.5, linestyle='--')\n",
    "plt.axvline(0, color='black', linewidth=0.5, linestyle='--')\n",
    "plt.grid(True)\n",
    "plt.legend()\n",
    "plt.tight_layout()\n",
    "plt.show()"
   ]
  },
  {
   "cell_type": "code",
   "execution_count": 1,
   "id": "39856d80-d969-4cba-b3a0-0902f0d10099",
   "metadata": {},
   "outputs": [
    {
     "name": "stdout",
     "output_type": "stream",
     "text": [
      "-0.17287600130999992\n"
     ]
    }
   ],
   "source": [
    "beta = 0.91\n",
    "\n",
    "past_gradients = [-12, 12, -12, 32, -31, 10]\n",
    "def momemtum(i):\n",
    "    if i == len(past_gradients):\n",
    "        return 0 \n",
    "    else: \n",
    "        return (1-beta)*past_gradients[i] + beta * (momemtum(i + 1))\n",
    "\n",
    "print(momemtum(0))"
   ]
  },
  {
   "cell_type": "code",
   "execution_count": null,
   "id": "219dde12-31b4-4de1-9de7-6ba001d09524",
   "metadata": {},
   "outputs": [],
   "source": []
  }
 ],
 "metadata": {
  "kernelspec": {
   "display_name": "Python [conda env:base] *",
   "language": "python",
   "name": "conda-base-py"
  },
  "language_info": {
   "codemirror_mode": {
    "name": "ipython",
    "version": 3
   },
   "file_extension": ".py",
   "mimetype": "text/x-python",
   "name": "python",
   "nbconvert_exporter": "python",
   "pygments_lexer": "ipython3",
   "version": "3.13.5"
  }
 },
 "nbformat": 4,
 "nbformat_minor": 5
}
